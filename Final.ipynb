{
 "cells": [
  {
   "cell_type": "code",
   "execution_count": 1,
   "metadata": {},
   "outputs": [],
   "source": [
    "import pandas as pd\n",
    "import json\n",
    "import mysql.connector\n",
    "import numpy as np             \n",
    "import matplotlib.pyplot as plt\n",
    "import pprint\n",
    "import math\n",
    "import os\n",
    "import gc\n",
    "import random\n",
    "import seaborn as sns\n",
    "from IPython.display import Markdown, display\n",
    "from scipy import stats  \n",
    "import plotly.express as px\n",
    "from scipy.stats import shapiro, probplot, zscore, boxcox\n",
    "\n",
    "# utility function to print markdown string\n",
    "def printmd(string):\n",
    "    display(Markdown(string))"
   ]
  },
  {
   "cell_type": "code",
   "execution_count": 2,
   "metadata": {},
   "outputs": [],
   "source": [
    "with open('config/db_config.json', 'r') as config_file:\n",
    "    db_config = json.load(config_file)"
   ]
  },
  {
   "cell_type": "code",
   "execution_count": 3,
   "metadata": {},
   "outputs": [],
   "source": [
    "conn = mysql.connector.connect(\n",
    "    host=db_config['host'],\n",
    "    port=db_config['port'],\n",
    "    user=db_config['user'],\n",
    "    password=db_config['password'],\n",
    "    database=db_config['database']\n",
    ")"
   ]
  },
  {
   "cell_type": "code",
   "execution_count": 4,
   "metadata": {},
   "outputs": [
    {
     "name": "stderr",
     "output_type": "stream",
     "text": [
      "C:\\Users\\arell\\AppData\\Local\\Temp\\ipykernel_12252\\3761654851.py:2: UserWarning: pandas only supports SQLAlchemy connectable (engine/connection) or database string URI or sqlite3 DBAPI2 connection. Other DBAPI2 objects are not tested. Please consider using SQLAlchemy.\n",
      "  album = pd.read_sql(sql_query, conn)\n",
      "C:\\Users\\arell\\AppData\\Local\\Temp\\ipykernel_12252\\3761654851.py:4: UserWarning: pandas only supports SQLAlchemy connectable (engine/connection) or database string URI or sqlite3 DBAPI2 connection. Other DBAPI2 objects are not tested. Please consider using SQLAlchemy.\n",
      "  artist = pd.read_sql(sql_query2, conn)\n",
      "C:\\Users\\arell\\AppData\\Local\\Temp\\ipykernel_12252\\3761654851.py:6: UserWarning: pandas only supports SQLAlchemy connectable (engine/connection) or database string URI or sqlite3 DBAPI2 connection. Other DBAPI2 objects are not tested. Please consider using SQLAlchemy.\n",
      "  customer = pd.read_sql(sql_query3, conn)\n",
      "C:\\Users\\arell\\AppData\\Local\\Temp\\ipykernel_12252\\3761654851.py:8: UserWarning: pandas only supports SQLAlchemy connectable (engine/connection) or database string URI or sqlite3 DBAPI2 connection. Other DBAPI2 objects are not tested. Please consider using SQLAlchemy.\n",
      "  employee = pd.read_sql(sql_query4, conn)\n",
      "C:\\Users\\arell\\AppData\\Local\\Temp\\ipykernel_12252\\3761654851.py:10: UserWarning: pandas only supports SQLAlchemy connectable (engine/connection) or database string URI or sqlite3 DBAPI2 connection. Other DBAPI2 objects are not tested. Please consider using SQLAlchemy.\n",
      "  genre = pd.read_sql(sql_query5, conn)\n",
      "C:\\Users\\arell\\AppData\\Local\\Temp\\ipykernel_12252\\3761654851.py:12: UserWarning: pandas only supports SQLAlchemy connectable (engine/connection) or database string URI or sqlite3 DBAPI2 connection. Other DBAPI2 objects are not tested. Please consider using SQLAlchemy.\n",
      "  invoice = pd.read_sql(sql_query6, conn)\n",
      "C:\\Users\\arell\\AppData\\Local\\Temp\\ipykernel_12252\\3761654851.py:14: UserWarning: pandas only supports SQLAlchemy connectable (engine/connection) or database string URI or sqlite3 DBAPI2 connection. Other DBAPI2 objects are not tested. Please consider using SQLAlchemy.\n",
      "  invoiceline = pd.read_sql(sql_query7, conn)\n",
      "C:\\Users\\arell\\AppData\\Local\\Temp\\ipykernel_12252\\3761654851.py:16: UserWarning: pandas only supports SQLAlchemy connectable (engine/connection) or database string URI or sqlite3 DBAPI2 connection. Other DBAPI2 objects are not tested. Please consider using SQLAlchemy.\n",
      "  mediatype = pd.read_sql(sql_query8, conn)\n",
      "C:\\Users\\arell\\AppData\\Local\\Temp\\ipykernel_12252\\3761654851.py:18: UserWarning: pandas only supports SQLAlchemy connectable (engine/connection) or database string URI or sqlite3 DBAPI2 connection. Other DBAPI2 objects are not tested. Please consider using SQLAlchemy.\n",
      "  playlist = pd.read_sql(sql_query9, conn)\n",
      "C:\\Users\\arell\\AppData\\Local\\Temp\\ipykernel_12252\\3761654851.py:20: UserWarning: pandas only supports SQLAlchemy connectable (engine/connection) or database string URI or sqlite3 DBAPI2 connection. Other DBAPI2 objects are not tested. Please consider using SQLAlchemy.\n",
      "  playlisttrack = pd.read_sql(sql_query10, conn)\n",
      "C:\\Users\\arell\\AppData\\Local\\Temp\\ipykernel_12252\\3761654851.py:22: UserWarning: pandas only supports SQLAlchemy connectable (engine/connection) or database string URI or sqlite3 DBAPI2 connection. Other DBAPI2 objects are not tested. Please consider using SQLAlchemy.\n",
      "  track = pd.read_sql(sql_query11, conn)\n"
     ]
    }
   ],
   "source": [
    "sql_query =\"\"\" select * from album \"\"\"\n",
    "album = pd.read_sql(sql_query, conn)\n",
    "sql_query2 =\"\"\" select * from artist \"\"\"\n",
    "artist = pd.read_sql(sql_query2, conn)\n",
    "sql_query3 =\"\"\" select * from customer \"\"\"\n",
    "customer = pd.read_sql(sql_query3, conn)\n",
    "sql_query4 =\"\"\" select * from employee \"\"\"\n",
    "employee = pd.read_sql(sql_query4, conn)\n",
    "sql_query5 =\"\"\" select * from genre \"\"\"\n",
    "genre = pd.read_sql(sql_query5, conn)\n",
    "sql_query6 =\"\"\" select * from invoice \"\"\"\n",
    "invoice = pd.read_sql(sql_query6, conn)\n",
    "sql_query7 =\"\"\" select * from invoiceline \"\"\"\n",
    "invoiceline = pd.read_sql(sql_query7, conn)\n",
    "sql_query8 =\"\"\" select * from mediatype \"\"\"\n",
    "mediatype = pd.read_sql(sql_query8, conn)\n",
    "sql_query9 =\"\"\" select * from playlist \"\"\"\n",
    "playlist = pd.read_sql(sql_query9, conn)\n",
    "sql_query10 =\"\"\" select * from playlisttrack \"\"\"\n",
    "playlisttrack = pd.read_sql(sql_query10, conn)\n",
    "sql_query11 =\"\"\" select * from track \"\"\"\n",
    "track = pd.read_sql(sql_query11, conn)"
   ]
  }
 ],
 "metadata": {
  "kernelspec": {
   "display_name": "myenv",
   "language": "python",
   "name": "python3"
  },
  "language_info": {
   "codemirror_mode": {
    "name": "ipython",
    "version": 3
   },
   "file_extension": ".py",
   "mimetype": "text/x-python",
   "name": "python",
   "nbconvert_exporter": "python",
   "pygments_lexer": "ipython3",
   "version": "3.12.2"
  }
 },
 "nbformat": 4,
 "nbformat_minor": 2
}
